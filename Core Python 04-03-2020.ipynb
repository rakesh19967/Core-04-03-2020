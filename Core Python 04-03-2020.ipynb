{
 "cells": [
  {
   "cell_type": "code",
   "execution_count": 148,
   "metadata": {},
   "outputs": [],
   "source": [
    "#!/bin/python3\n",
    "\n",
    "import os\n",
    "import sys\n",
    "def prime(num):\n",
    "    if num > 5:\n",
    "        for i in range(2, num//2):\n",
    "            if (num % i) == 0:\n",
    "                return 0 \n",
    "                break \n",
    "    if num==1 or num==4:\n",
    "        return 0 \n",
    "    elif num==2 or num==3 or num==5:\n",
    "        return 1 \n",
    "    else:\n",
    "        return 1\n",
    "def lucky(i):\n",
    "    sume=0 \n",
    "    sqr=0 \n",
    "    while(i>0):\n",
    "        x=i%10\n",
    "        i=i//10\n",
    "        sume=x+sume \n",
    "        sqr=(x*x)+sqr \n",
    "    return sume,sqr \n",
    "def luckyNumbers(a, b):\n",
    "    count=0 \n",
    "    for i in range(a,b+1):\n",
    "        m,n=lucky(i) \n",
    "        out1,out2=prime(m),prime(n)\n",
    "        if out1==1 and out2==1:\n",
    "            count+=1 \n",
    "    return count\n",
    "\n",
    "if __name__ == '__main__':\n",
    "    fptr = open(os.environ['OUTPUT_PATH'], 'w')\n",
    "\n",
    "    t = int(input())\n",
    "\n",
    "    for t_itr in range(t):\n",
    "        ab = input().split()\n",
    "\n",
    "        a = int(ab[0])\n",
    "\n",
    "        b = int(ab[1])\n",
    "\n",
    "        result = luckyNumbers(a, b)\n",
    "\n",
    "        fptr.write(str(result) + '\\n')\n",
    "\n",
    "    fptr.close()\n"
   ]
  },
  {
   "cell_type": "code",
   "execution_count": 4,
   "metadata": {},
   "outputs": [],
   "source": [
    "name=\"python\""
   ]
  },
  {
   "cell_type": "code",
   "execution_count": 5,
   "metadata": {},
   "outputs": [
    {
     "ename": "TypeError",
     "evalue": "'name' is an invalid keyword argument for print()",
     "output_type": "error",
     "traceback": [
      "\u001b[1;31m---------------------------------------------------------------------------\u001b[0m",
      "\u001b[1;31mTypeError\u001b[0m                                 Traceback (most recent call last)",
      "\u001b[1;32m<ipython-input-5-3e4babf24830>\u001b[0m in \u001b[0;36m<module>\u001b[1;34m\u001b[0m\n\u001b[1;32m----> 1\u001b[1;33m \u001b[0mprint\u001b[0m\u001b[1;33m(\u001b[0m\u001b[0mname\u001b[0m\u001b[1;33m,\u001b[0m\u001b[1;34m'PS'\u001b[0m\u001b[1;33m,\u001b[0m\u001b[1;36m23\u001b[0m\u001b[1;33m,\u001b[0m\u001b[0mname\u001b[0m\u001b[1;33m=\u001b[0m\u001b[1;34m'C'\u001b[0m\u001b[1;33m)\u001b[0m\u001b[1;33m\u001b[0m\u001b[1;33m\u001b[0m\u001b[0m\n\u001b[0m",
      "\u001b[1;31mTypeError\u001b[0m: 'name' is an invalid keyword argument for print()"
     ]
    }
   ],
   "source": [
    "print(name,'PS',23,name='C')"
   ]
  },
  {
   "cell_type": "code",
   "execution_count": 7,
   "metadata": {},
   "outputs": [
    {
     "name": "stdout",
     "output_type": "stream",
     "text": [
      "Help on built-in function print in module builtins:\n",
      "\n",
      "print(...)\n",
      "    print(value, ..., sep=' ', end='\\n', file=sys.stdout, flush=False)\n",
      "    \n",
      "    Prints the values to a stream, or to sys.stdout by default.\n",
      "    Optional keyword arguments:\n",
      "    file:  a file-like object (stream); defaults to the current sys.stdout.\n",
      "    sep:   string inserted between values, default a space.\n",
      "    end:   string appended after the last value, default a newline.\n",
      "    flush: whether to forcibly flush the stream.\n",
      "\n"
     ]
    }
   ],
   "source": [
    "help(print)"
   ]
  },
  {
   "cell_type": "code",
   "execution_count": 23,
   "metadata": {},
   "outputs": [
    {
     "name": "stdout",
     "output_type": "stream",
     "text": [
      "python\n",
      " PS\n",
      " 23\n"
     ]
    }
   ],
   "source": [
    "print(name,\"PS\",23,sep='\\n ')"
   ]
  },
  {
   "cell_type": "markdown",
   "metadata": {},
   "source": [
    "### difference between sep and end\n",
    "- sep --> the values of print will separate with value in sep\n",
    "- end --> how to end the print output\n",
    "### Run multiple print statement with different values for end and sep"
   ]
  },
  {
   "cell_type": "code",
   "execution_count": 40,
   "metadata": {},
   "outputs": [
    {
     "name": "stdout",
     "output_type": "stream",
     "text": [
      "python\n",
      "PS\n",
      "python israkesh\n",
      "python is rakesh good boy\n"
     ]
    }
   ],
   "source": [
    "print(name)\n",
    "print(\"PS\")\n",
    "# print(name=rakesh) # it will not assignment the value name to rakesh in print statement\n",
    "print(name,\"is\"\"rakesh\")\n",
    "print(name,\"rakesh good boy\",sep=' is ')"
   ]
  },
  {
   "cell_type": "code",
   "execution_count": 45,
   "metadata": {},
   "outputs": [
    {
     "name": "stdout",
     "output_type": "stream",
     "text": [
      "34f67\n",
      "87s72 hello\n"
     ]
    }
   ],
   "source": [
    "print(34,67,sep='f')\n",
    "print(87,72,end=' ',sep='s')\n",
    "print(\"hello\",sep='t')"
   ]
  },
  {
   "cell_type": "markdown",
   "metadata": {},
   "source": [
    "### Datatypes : (all are class )\n",
    "- str\n",
    "- int\n",
    "- float\n",
    "- Bool "
   ]
  },
  {
   "cell_type": "code",
   "execution_count": 48,
   "metadata": {},
   "outputs": [
    {
     "data": {
      "text/plain": [
       "str"
      ]
     },
     "execution_count": 48,
     "metadata": {},
     "output_type": "execute_result"
    }
   ],
   "source": [
    "type('sr')"
   ]
  },
  {
   "cell_type": "code",
   "execution_count": 51,
   "metadata": {},
   "outputs": [],
   "source": [
    "# help(str)"
   ]
  },
  {
   "cell_type": "code",
   "execution_count": 52,
   "metadata": {},
   "outputs": [
    {
     "name": "stdout",
     "output_type": "stream",
     "text": [
      "single quote\n",
      "double quote\n",
      "triple quote\n"
     ]
    }
   ],
   "source": [
    "sq = 'single quote'\n",
    "dq = \"double quote\"\n",
    "tq = '''triple quote'''\n",
    "print(sq)\n",
    "print(dq)\n",
    "print(tq)"
   ]
  },
  {
   "cell_type": "code",
   "execution_count": 63,
   "metadata": {},
   "outputs": [
    {
     "name": "stdout",
     "output_type": "stream",
     "text": [
      "\"i want to learn python\"\n"
     ]
    }
   ],
   "source": [
    "a=\"I don't want to learn python\"\n",
    "a='I don\\'t want to learn python'\n",
    "# a='I don't want to learn python' ==>ERROR\n",
    "a='\"i want to learn python\"'\n",
    "print(a)"
   ]
  },
  {
   "cell_type": "code",
   "execution_count": 85,
   "metadata": {},
   "outputs": [
    {
     "name": "stdout",
     "output_type": "stream",
     "text": [
      "I am a \"Python Developer\" I am a \"Python Developer\" I am a \"Python Developer\"\n",
      "I am a \"Python Developer\"\n",
      "I am a \"Python Developer\"\n",
      "I am a \"Python Developer\"\n"
     ]
    }
   ],
   "source": [
    "# \\\"  ==> Escape sequence\n",
    "b = 'I am a \"Python Developer\"'\n",
    "c = \"I am a \\\"Python Developer\\\"\"\n",
    "d = '''I am a \"Python Developer\"'''\n",
    "print(b,end=\" \")\n",
    "print(c,end=\" \")\n",
    "print(d)\n",
    "print(b,c,d,sep=\"\\n\")"
   ]
  },
  {
   "cell_type": "code",
   "execution_count": 86,
   "metadata": {},
   "outputs": [
    {
     "name": "stdout",
     "output_type": "stream",
     "text": [
      "<class 'str'> <class 'str'> <class 'str'>\n"
     ]
    }
   ],
   "source": [
    "s5 = '67'\n",
    "s6 = 'sr'\n",
    "s7 = 'True'\n",
    "print(type(s5),type(s6),type(s7))"
   ]
  },
  {
   "cell_type": "code",
   "execution_count": 88,
   "metadata": {},
   "outputs": [
    {
     "data": {
      "text/plain": [
       "int"
      ]
     },
     "execution_count": 88,
     "metadata": {},
     "output_type": "execute_result"
    }
   ],
   "source": [
    "i = 67\n",
    "type(i)"
   ]
  },
  {
   "cell_type": "code",
   "execution_count": 89,
   "metadata": {},
   "outputs": [
    {
     "data": {
      "text/plain": [
       "float"
      ]
     },
     "execution_count": 89,
     "metadata": {},
     "output_type": "execute_result"
    }
   ],
   "source": [
    "j = 12.9\n",
    "type(j)"
   ]
  },
  {
   "cell_type": "code",
   "execution_count": 90,
   "metadata": {},
   "outputs": [
    {
     "name": "stdout",
     "output_type": "stream",
     "text": [
      "<class 'str'> true\n"
     ]
    }
   ],
   "source": [
    "b = \"true\"\n",
    "print(type(b),b)\n"
   ]
  },
  {
   "cell_type": "code",
   "execution_count": 92,
   "metadata": {},
   "outputs": [
    {
     "name": "stdout",
     "output_type": "stream",
     "text": [
      "<class 'bool'> True\n",
      "<class 'bool'> False\n"
     ]
    }
   ],
   "source": [
    "b = True\n",
    "c = False\n",
    "print(type(b),b)\n",
    "print(type(c),c)"
   ]
  },
  {
   "cell_type": "markdown",
   "metadata": {},
   "source": [
    "### Operators\n",
    "- +\n",
    "- -\n",
    "- *\n",
    "- /\n",
    "- %\n",
    "- **\n"
   ]
  },
  {
   "cell_type": "markdown",
   "metadata": {},
   "source": [
    "- check all the operations with operands of same datatypes\n",
    "- check all the operations with mixed operands\n",
    "- Observe the ouputs and errors\n",
    "- Note down the outputs with special values"
   ]
  },
  {
   "cell_type": "code",
   "execution_count": 98,
   "metadata": {},
   "outputs": [
    {
     "name": "stdout",
     "output_type": "stream",
     "text": [
      "3 -1 2 1 1"
     ]
    }
   ],
   "source": [
    "a=1\n",
    "b=2\n",
    "c=a+b\n",
    "d=a-b\n",
    "e=a*b\n",
    "f=a%b\n",
    "g = a**b\n",
    "print(c,d,e,f,g,end='')"
   ]
  },
  {
   "cell_type": "code",
   "execution_count": 107,
   "metadata": {},
   "outputs": [
    {
     "name": "stdout",
     "output_type": "stream",
     "text": [
      "rakesh reddy\n"
     ]
    }
   ],
   "source": [
    "a='rakesh '\n",
    "b='reddy'\n",
    "c=a+b\n",
    "print(c)\n",
    "# d=a-b ERROR\n",
    "# e=a*b ERROR\n",
    "# f=a%b ERROR\n",
    "# g = a**b ERROR"
   ]
  },
  {
   "cell_type": "code",
   "execution_count": 116,
   "metadata": {},
   "outputs": [
    {
     "name": "stdout",
     "output_type": "stream",
     "text": [
      "1\n",
      "0\n",
      "1\n",
      "0.0\n"
     ]
    }
   ],
   "source": [
    "a = True\n",
    "b = False\n",
    "c = a+b\n",
    "print(c)\n",
    "d = a*b\n",
    "print(d)\n",
    "e = a-b\n",
    "print(e)\n",
    "f = b/a\n",
    "print(f)\n",
    "# g = a/b\n"
   ]
  },
  {
   "cell_type": "code",
   "execution_count": 121,
   "metadata": {},
   "outputs": [
    {
     "name": "stdout",
     "output_type": "stream",
     "text": [
      "232323232323232323232323\n"
     ]
    }
   ],
   "source": [
    "a= 12\n",
    "b=\"23\"\n",
    "# c=a+b\n",
    "# d=a-b\n",
    "e=a*b\n",
    "# f=a%b\n",
    "# g = a**b\n",
    "print(e)\n"
   ]
  },
  {
   "cell_type": "code",
   "execution_count": 125,
   "metadata": {},
   "outputs": [
    {
     "name": "stdout",
     "output_type": "stream",
     "text": [
      "1\n"
     ]
    }
   ],
   "source": [
    "a=12.2\n",
    "b=\"sr\"\n",
    "# c=a*b\n",
    "print(c)"
   ]
  },
  {
   "cell_type": "code",
   "execution_count": 128,
   "metadata": {},
   "outputs": [
    {
     "name": "stdout",
     "output_type": "stream",
     "text": [
      "93\n",
      "True\n",
      "56\n",
      "True\n",
      "1\n"
     ]
    }
   ],
   "source": [
    "print(int(93.4))\n",
    "print(str(True))\n",
    "print(str(56))\n",
    "print(bool(True))\n",
    "print(int(True))"
   ]
  },
  {
   "cell_type": "code",
   "execution_count": 132,
   "metadata": {},
   "outputs": [
    {
     "name": "stdout",
     "output_type": "stream",
     "text": [
      "Enter a integer:12\n",
      "12 <class 'int'>\n",
      "enter a float number :12.5\n",
      "12.5 <class 'float'>\n",
      "True <class 'bool'>\n"
     ]
    }
   ],
   "source": [
    "# repeat the above cell for all the conditions\n",
    "i = int(input(\"Enter a integer:\"))\n",
    "print(i,type(i))\n",
    "f = float(input(\"enter a float number :\"))\n",
    "print(f,type(f))\n",
    "b = bool(type(\"enter a boolean number :\"))\n",
    "print(b,type(b))"
   ]
  },
  {
   "cell_type": "code",
   "execution_count": 145,
   "metadata": {},
   "outputs": [
    {
     "data": {
      "text/plain": [
       "(False, True, True, True, True)"
      ]
     },
     "execution_count": 145,
     "metadata": {},
     "output_type": "execute_result"
    }
   ],
   "source": [
    "bool(0),bool(-1),bool(3),bool('0'),bool(' ')"
   ]
  },
  {
   "cell_type": "code",
   "execution_count": 140,
   "metadata": {},
   "outputs": [
    {
     "data": {
      "text/plain": [
       "(True, True, False, False, True)"
      ]
     },
     "execution_count": 140,
     "metadata": {},
     "output_type": "execute_result"
    }
   ],
   "source": [
    "bool('a'),bool(23.4),bool(),bool([]),bool([0,0,0])"
   ]
  },
  {
   "cell_type": "markdown",
   "metadata": {},
   "source": [
    "from stdin\n",
    "- read no of items purchased as integer\n",
    "- read item price as float\n",
    "- read the amount given by the customer as float\n",
    "- calculate the total amount as float\n",
    "- print the two outputs in the below format\n",
    "<pre>Total amount should paid by customer is : $Amount\n",
    "- Amount given by customer : Amount\n",
    "- change we should give to the customer : $Total Amount\n",
    "- Amount given by customer : Amount\n",
    "- Change we should give to the customer : $change\n",
    "    "
   ]
  },
  {
   "cell_type": "code",
   "execution_count": 152,
   "metadata": {},
   "outputs": [
    {
     "name": "stdout",
     "output_type": "stream",
     "text": [
      "5\n",
      "10.5\n",
      "100\n",
      "Total amount should paid by customer is : 52.5\n",
      "Amount given by custoner :  100.0\n",
      "Change we should give to the customer : 47.5\n"
     ]
    }
   ],
   "source": [
    "n = int(input())\n",
    "i = float(input())\n",
    "amount =float(input())\n",
    "totalAmount = n*i\n",
    "change = amount -totalAmount\n",
    "print(\"Total amount should paid by customer is :\",totalAmount)\n",
    "print(\"Amount given by custoner : \",amount)\n",
    "print(\"Change we should give to the customer :\",change)"
   ]
  },
  {
   "cell_type": "markdown",
   "metadata": {},
   "source": [
    "comparison operators\n",
    "- ==\n",
    "- >\n",
    "- !=\n",
    "- <=\n",
    "- >=\n",
    "\n",
    "logical operators\n",
    "- &\n",
    "- |\n",
    "- ^\n",
    "- and \n",
    "- or"
   ]
  },
  {
   "cell_type": "code",
   "execution_count": 164,
   "metadata": {},
   "outputs": [
    {
     "name": "stdout",
     "output_type": "stream",
     "text": [
      "False\n",
      "True\n",
      "False\n",
      "True\n"
     ]
    }
   ],
   "source": [
    "a=\"rakesh\"\n",
    "b=\"rak\"\n",
    "print(a==b)\n",
    "print(a>b)\n",
    "# print(a^b)\n",
    "print(a<=b)\n",
    "print(a>=b)"
   ]
  },
  {
   "cell_type": "code",
   "execution_count": null,
   "metadata": {},
   "outputs": [],
   "source": [
    "2 -  10\n",
    "3 -  11\n",
    "or - 01\n",
    "and - 10"
   ]
  },
  {
   "cell_type": "code",
   "execution_count": 177,
   "metadata": {},
   "outputs": [
    {
     "name": "stdout",
     "output_type": "stream",
     "text": [
      "False\n",
      "True\n",
      "6\n",
      "False\n",
      "True\n",
      "0\n",
      "632\n",
      "-3\n"
     ]
    }
   ],
   "source": [
    "a=12\n",
    "b=10\n",
    "print(a==b)\n",
    "print(a>b)\n",
    "print(a^b)\n",
    "print(a<=b)\n",
    "print(a>=b)\n",
    "print(10^10)\n",
    "print(600|40)\n",
    "print(~2)"
   ]
  },
  {
   "cell_type": "code",
   "execution_count": 183,
   "metadata": {},
   "outputs": [
    {
     "name": "stdout",
     "output_type": "stream",
     "text": [
      "3\n",
      "2\n",
      "False\n",
      "2\n",
      "False\n",
      "2\n",
      "49\n",
      "False\n"
     ]
    }
   ],
   "source": [
    "print(2 and 3)\n",
    "print(2 or 3)\n",
    "print(not 2)\n",
    "print(20 and 2) \n",
    "print(5==5 and 5==4)\n",
    "print(5 and 2)\n",
    "print(5==5 and 7*7)\n",
    "print(5==6 and 7*7)"
   ]
  },
  {
   "cell_type": "code",
   "execution_count": 184,
   "metadata": {},
   "outputs": [
    {
     "name": "stdout",
     "output_type": "stream",
     "text": [
      "2\n",
      "2\n",
      "False\n",
      "20\n",
      "True\n",
      "5\n",
      "True\n",
      "49\n"
     ]
    }
   ],
   "source": [
    "print(2 or 3)\n",
    "print(2 or 8)\n",
    "print(not 2)\n",
    "print(20 or 2) \n",
    "print(5==5 or 5==4)\n",
    "print(5 or 2)\n",
    "print(5==5 or 7*7)\n",
    "print(5==6 or 7*7)"
   ]
  },
  {
   "cell_type": "code",
   "execution_count": 215,
   "metadata": {},
   "outputs": [
    {
     "name": "stdout",
     "output_type": "stream",
     "text": [
      "True\n",
      "True\n",
      "False\n",
      "True\n",
      "True\n",
      "True\n",
      "True\n"
     ]
    }
   ],
   "source": [
    "print(\"python\">\"c\")\n",
    "print(\"p\">\"cy\")\n",
    "print(\"a\"<\"A\")\n",
    "print(\"AB\"<\"ab\")\n",
    "print(\"dy\">\"czjgg\")\n",
    "print(\"x\">\"d\")\n",
    "print(\"pyd\">\"pyc\")\n"
   ]
  },
  {
   "cell_type": "code",
   "execution_count": 216,
   "metadata": {},
   "outputs": [],
   "source": [
    "# ord('cy')"
   ]
  },
  {
   "cell_type": "code",
   "execution_count": 217,
   "metadata": {},
   "outputs": [
    {
     "name": "stdout",
     "output_type": "stream",
     "text": [
      "False\n"
     ]
    }
   ],
   "source": [
    "print(not(-10))"
   ]
  },
  {
   "cell_type": "code",
   "execution_count": 223,
   "metadata": {},
   "outputs": [
    {
     "name": "stdout",
     "output_type": "stream",
     "text": [
      "False\n",
      "True\n",
      "False\n",
      "False\n"
     ]
    }
   ],
   "source": [
    "print(not(10))\n",
    "print(not(0))\n",
    "print(not(-90.56))\n",
    "print(not(410))"
   ]
  },
  {
   "cell_type": "markdown",
   "metadata": {},
   "source": [
    "### conditional statement\n",
    "- if\n",
    "- elif\n",
    "- else\n",
    "- if elif else"
   ]
  },
  {
   "cell_type": "code",
   "execution_count": null,
   "metadata": {},
   "outputs": [],
   "source": [
    "if condition:\n",
    "    statement1\n",
    "    statement2\n",
    "    statement3"
   ]
  },
  {
   "cell_type": "code",
   "execution_count": 232,
   "metadata": {},
   "outputs": [
    {
     "name": "stdout",
     "output_type": "stream",
     "text": [
      "45\n",
      "int 45\n"
     ]
    }
   ],
   "source": [
    "# check whether the given number is an int or not\n",
    "n = input()\n",
    "if n.isnumeric():\n",
    "    print(\"int\",n)"
   ]
  },
  {
   "cell_type": "code",
   "execution_count": null,
   "metadata": {},
   "outputs": [],
   "source": [
    "# check whether the given number is even or odd\n",
    "s = int()"
   ]
  },
  {
   "cell_type": "code",
   "execution_count": 234,
   "metadata": {},
   "outputs": [
    {
     "name": "stdout",
     "output_type": "stream",
     "text": [
      "True\n",
      "False\n"
     ]
    }
   ],
   "source": [
    "x=45\n",
    "isinstance(x,float)\n",
    "print(isinstance(x,int))\n",
    "print(isinstance(x,str))"
   ]
  },
  {
   "cell_type": "code",
   "execution_count": 235,
   "metadata": {},
   "outputs": [
    {
     "name": "stdout",
     "output_type": "stream",
     "text": [
      "12\n",
      "12\n"
     ]
    }
   ],
   "source": [
    "try:\n",
    "    s =input()\n",
    "    print(int(s))\n",
    "except:\n",
    "    pass"
   ]
  },
  {
   "cell_type": "code",
   "execution_count": 236,
   "metadata": {},
   "outputs": [
    {
     "data": {
      "text/plain": [
       "False"
      ]
     },
     "execution_count": 236,
     "metadata": {},
     "output_type": "execute_result"
    }
   ],
   "source": [
    "\"67.68\".isnumeric()"
   ]
  },
  {
   "cell_type": "code",
   "execution_count": 249,
   "metadata": {},
   "outputs": [
    {
     "name": "stdout",
     "output_type": "stream",
     "text": [
      "3895\n",
      "False\n"
     ]
    }
   ],
   "source": [
    "# check whether unit digit is multiple of 3 or not \n",
    "# if it is multiple print True\n",
    "# else print True\n",
    "n = input()\n",
    "if (int(n[-1])%3)==0:\n",
    "    print(\"True\")\n",
    "else:\n",
    "    print(\"False\")"
   ]
  },
  {
   "cell_type": "code",
   "execution_count": 251,
   "metadata": {},
   "outputs": [
    {
     "name": "stdout",
     "output_type": "stream",
     "text": [
      "6598\n",
      "False\n"
     ]
    }
   ],
   "source": [
    "n=int(input())\n",
    "n=n%10\n",
    "if (n%3)==0:\n",
    "    print(\"True\")\n",
    "else:\n",
    "    print(\"False\")"
   ]
  },
  {
   "cell_type": "code",
   "execution_count": 252,
   "metadata": {},
   "outputs": [
    {
     "name": "stdout",
     "output_type": "stream",
     "text": [
      "True\n"
     ]
    }
   ],
   "source": [
    "if -32:\n",
    "    print(True)\n",
    "else:\n",
    "    print(False)"
   ]
  },
  {
   "cell_type": "code",
   "execution_count": 253,
   "metadata": {},
   "outputs": [
    {
     "name": "stdout",
     "output_type": "stream",
     "text": [
      "True\n"
     ]
    }
   ],
   "source": [
    "if -20:\n",
    "    print(True)\n",
    "else:\n",
    "    print(False)"
   ]
  },
  {
   "cell_type": "code",
   "execution_count": 255,
   "metadata": {},
   "outputs": [
    {
     "name": "stdout",
     "output_type": "stream",
     "text": [
      "True\n"
     ]
    }
   ],
   "source": [
    "n=6\n",
    "if n:\n",
    "    print(True)\n",
    "else:\n",
    "    print(False)"
   ]
  },
  {
   "cell_type": "code",
   "execution_count": 256,
   "metadata": {},
   "outputs": [
    {
     "name": "stdout",
     "output_type": "stream",
     "text": [
      "False\n"
     ]
    }
   ],
   "source": [
    "if \"\":\n",
    "    print(True)\n",
    "else:\n",
    "    print(False)"
   ]
  },
  {
   "cell_type": "code",
   "execution_count": 258,
   "metadata": {},
   "outputs": [
    {
     "name": "stdout",
     "output_type": "stream",
     "text": [
      "True\n"
     ]
    }
   ],
   "source": [
    "if \"rakesh\":\n",
    "    print(True)\n",
    "else:\n",
    "    print(False)"
   ]
  },
  {
   "cell_type": "code",
   "execution_count": 260,
   "metadata": {},
   "outputs": [],
   "source": [
    "if 6=='6':\n",
    "    print(True)"
   ]
  },
  {
   "cell_type": "code",
   "execution_count": 271,
   "metadata": {},
   "outputs": [
    {
     "name": "stdout",
     "output_type": "stream",
     "text": [
      "strin\n",
      "True\n"
     ]
    }
   ],
   "source": [
    "# check whether the name starts with s or not\n",
    "# if it is starting with s.Count the no of characters \n",
    "# in the string and check whether it is equal to five or not\n",
    "# if it is equal to five return True else return False.\n",
    "n = input()\n",
    "if n[0]=='s': #s[0].lower()\n",
    "    if len(n)==5:\n",
    "        print(True)\n",
    "    else:\n",
    "        print(False)\n",
    "else:\n",
    "    print(False)"
   ]
  },
  {
   "cell_type": "code",
   "execution_count": 273,
   "metadata": {},
   "outputs": [
    {
     "name": "stdout",
     "output_type": "stream",
     "text": [
      "strig\n",
      "True\n"
     ]
    }
   ],
   "source": [
    "n=input()\n",
    "if (n[0].lower()=='s') and len(n)==5:\n",
    "    print(True)\n",
    "else:\n",
    "    print(False)"
   ]
  },
  {
   "cell_type": "code",
   "execution_count": null,
   "metadata": {},
   "outputs": [],
   "source": []
  }
 ],
 "metadata": {
  "kernelspec": {
   "display_name": "Python 3",
   "language": "python",
   "name": "python3"
  },
  "language_info": {
   "codemirror_mode": {
    "name": "ipython",
    "version": 3
   },
   "file_extension": ".py",
   "mimetype": "text/x-python",
   "name": "python",
   "nbconvert_exporter": "python",
   "pygments_lexer": "ipython3",
   "version": "3.7.1"
  }
 },
 "nbformat": 4,
 "nbformat_minor": 2
}
